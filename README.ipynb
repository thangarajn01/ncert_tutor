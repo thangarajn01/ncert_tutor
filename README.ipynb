{
 "cells": [
  {
   "cell_type": "markdown",
   "id": "79c4026c",
   "metadata": {},
   "source": [
    "# NCERT AI TUTOR\n"
   ]
  },
  {
   "cell_type": "markdown",
   "id": "36055880",
   "metadata": {},
   "source": [
    "# How to use?\n",
    "\n",
    "**Step 1: Create a virtual environment**"
   ]
  },
  {
   "cell_type": "code",
   "execution_count": null,
   "id": "a828852b",
   "metadata": {
    "vscode": {
     "languageId": "plaintext"
    }
   },
   "outputs": [],
   "source": [
    "python -m venv .venv"
   ]
  },
  {
   "cell_type": "markdown",
   "id": "2eee139d",
   "metadata": {},
   "source": [
    "**Step 2: Activate the Virtual Environment**"
   ]
  },
  {
   "cell_type": "code",
   "execution_count": null,
   "id": "459b9548",
   "metadata": {
    "vscode": {
     "languageId": "plaintext"
    }
   },
   "outputs": [],
   "source": [
    "source venv/bin/activate"
   ]
  },
  {
   "cell_type": "markdown",
   "id": "b31f7280",
   "metadata": {},
   "source": [
    "**Step 3: Install Requirements**"
   ]
  },
  {
   "cell_type": "markdown",
   "id": "a656136a",
   "metadata": {},
   "source": [
    "pip install --upgrade pip\n",
    "pip install -r requirements.txt"
   ]
  },
  {
   "cell_type": "markdown",
   "id": "3500dfd5",
   "metadata": {},
   "source": [
    "**Step 4: Create .env**\n",
    "Create environment file .env with all API KEYs required."
   ]
  },
  {
   "cell_type": "code",
   "execution_count": null,
   "id": "ca61f61e",
   "metadata": {
    "vscode": {
     "languageId": "plaintext"
    }
   },
   "outputs": [],
   "source": [
    "OPENAI_API_KEY=your_openai_api_key_here\n",
    "ANTHROPIC_API_KEY=your_anthropic_api_key_here\n",
    "GOOGLE_API_KEY=your_google_api_key_here\n",
    "HUGGINGFACE_API_TOKEN=your_huggingface_token_here\n",
    "LANGCHAIN_API_KEY=your_langchain_api_key_here\n",
    "TAVILY_API_KEY=your_tavily_api_key_here"
   ]
  },
  {
   "cell_type": "markdown",
   "id": "26b3b4f4",
   "metadata": {},
   "source": [
    "**Step 5: Create vector store**"
   ]
  },
  {
   "cell_type": "code",
   "execution_count": null,
   "id": "2d549c3c",
   "metadata": {
    "vscode": {
     "languageId": "plaintext"
    }
   },
   "outputs": [],
   "source": [
    "python scripts/build_vector_store.py"
   ]
  },
  {
   "cell_type": "markdown",
   "id": "91fce07f",
   "metadata": {},
   "source": [
    "**Step 6: Start FastAPI backend**"
   ]
  },
  {
   "cell_type": "code",
   "execution_count": null,
   "id": "dde3e53d",
   "metadata": {
    "vscode": {
     "languageId": "plaintext"
    }
   },
   "outputs": [],
   "source": [
    "uvicorn app.backend:app --reload"
   ]
  },
  {
   "cell_type": "markdown",
   "id": "68b47b71",
   "metadata": {},
   "source": [
    "**Step 7:Start Streamlit UI**"
   ]
  },
  {
   "cell_type": "code",
   "execution_count": null,
   "id": "ac32f9ed",
   "metadata": {
    "vscode": {
     "languageId": "plaintext"
    }
   },
   "outputs": [],
   "source": [
    "streamlit run app/ui.py"
   ]
  },
  {
   "cell_type": "markdown",
   "id": "dc477b8a",
   "metadata": {},
   "source": [
    "# Design Decisions\n",
    "\n",
    "## Vector Store: FAISS vs Chroma\n",
    "\n",
    "In the development of this Retrieval-Augmented Generation (RAG)-based tutoring system, the selection of the vector store plays a critical role in enabling efficient and accurate semantic search over educational content. After evaluating multiple options, FAISS (Facebook AI Similarity Search) was chosen over Chroma for the following reasons:\n",
    "\n",
    "1. **Performance and Scalability**\n",
    "FAISS is a highly optimized library developed by Meta AI Research. It is designed for high-performance similarity search and clustering of dense vectors. The library supports several advanced indexing strategies such as Inverted File Indexes (IVF), Product Quantization (PQ), and Hierarchical Navigable Small World (HNSW) graphs, which are well-suited for large-scale deployments. This makes FAISS a more robust option for handling large volumes of text data, such as educational textbooks spanning multiple grades and subjects.\n",
    "\n",
    "2. **Stability and Maturity**\n",
    "FAISS has been widely adopted in academic and industrial applications since its release. Its maturity ensures greater stability and reliability in production environments. This is particularly valuable in educational tools, where the accuracy and speed of retrieval are critical to user experience.\n",
    "\n",
    "3. **Ease of Integration and Persistence**\n",
    "The LangChain framework offers excellent support for FAISS, including simple interfaces for saving and loading vector indexes to disk (save_local() and load_local()). This simplifies the development workflow and enables persistent local storage without requiring a server backend, making it ideal for lightweight deployments or offline environments.\n",
    "\n",
    "4. **Local-First Design**\n",
    "Since this application is intended to run locally or on user-hosted machines (such as schools or low-resource environments), FAISS is well-suited due to its low dependency footprint and complete local execution model. In contrast, some vector stores like Chroma often require persistent server processes or external backends to manage metadata and indexes.\n",
    "\n",
    "5. **Comparison with Chroma**\n",
    "While Chroma offers a developer-friendly interface and built-in metadata filtering (via DuckDB/SQLite), it is more suited for rapid prototyping or cloud-native applications that benefit from RESTful APIs and server persistence. However, for this use case—which emphasizes speed, simplicity, and offline usability—FAISS provides superior performance and better aligns with the project’s deployment goals.\n",
    "\n",
    "In summary, FAISS was selected due to its **speed, reliability, local storage capabilities, and production-grade performance**, all of which are essential for building a scalable and responsive educational RAG application. Chroma remains a valuable alternative for future iterations if server-side querying or live metadata filtering becomes necessary."
   ]
  },
  {
   "cell_type": "markdown",
   "id": "b7f41445",
   "metadata": {},
   "source": []
  }
 ],
 "metadata": {
  "language_info": {
   "name": "python"
  }
 },
 "nbformat": 4,
 "nbformat_minor": 5
}
